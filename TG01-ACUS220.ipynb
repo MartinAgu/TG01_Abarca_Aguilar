{
 "cells": [
  {
   "cell_type": "markdown",
   "metadata": {},
   "source": [
    "# Evaluación parcial 1.\n",
    "\n",
    "Se procede a la importación de las librerias que serán a utilizadas posteriormente."
   ]
  },
  {
   "cell_type": "code",
   "execution_count": 38,
   "metadata": {},
   "outputs": [],
   "source": [
    "import numpy as np\n",
    "import pandas as pd\n",
    "from matplotlib import pyplot as plt"
   ]
  },
  {
   "cell_type": "markdown",
   "metadata": {},
   "source": [
    "Para la evaluación son entregados los siguientes valores\n",
    "\\begin{align}\n",
    "\\\\\n",
    "\\end{align}\n",
    "\n",
    "|f|Hz|50|63|80|100|125|160|200|250|315|400|500|630|800|1000|1250|1600|2000|2500|3150|4000|5000|\n",
    "|-|-|-|-|-|-|-|-|-|-|-|-|-|-|-|-|-|-|-|-|-|-|-|\n",
    "|Lp| dB|96,8|99,0|89,7|93,8|95,9|80,2|78,8|67,9|76,5|72,6|79,8|80,6|76,0|73,8|80,2|78,6|83,0|82,8|73,3|73,7|58,1| "
   ]
  },
  {
   "cell_type": "markdown",
   "metadata": {},
   "source": [
    "Para facilitar la transcripción de estos datos, primeramente son escritos en excell y a traves de la siguiente función son pasados a Python, como lo es el nivel de presión sonora en ponderación (Z) ubicado en la segunda columna, con su respectiva frecuencia ubicada en la primera columna, y la correción que se le debe aplicar a cada frecuencia para ponderarlo en A en la tercera columna."
   ]
  },
  {
   "cell_type": "code",
   "execution_count": 39,
   "metadata": {},
   "outputs": [],
   "source": [
    "df= pd.read_excel('tabla_datos.xlsx',names=['freq', 'Lp','LpAc'])"
   ]
  },
  {
   "cell_type": "code",
   "execution_count": 40,
   "metadata": {},
   "outputs": [
    {
     "name": "stdout",
     "output_type": "stream",
     "text": [
      "    freq    Lp  LpAc\n",
      "0     50  96.8  30.2\n",
      "1     63  99.0  26.2\n",
      "2     80  89.7  22.5\n",
      "3    100  93.8  19.1\n",
      "4    125  95.9  16.1\n",
      "5    160  80.2  13.4\n",
      "6    200  78.8  10.9\n",
      "7    250  67.9   8.6\n",
      "8    315  76.5   6.6\n",
      "9    400  72.6   4.8\n",
      "10   500  79.8   3.2\n",
      "11   630  80.6   1.9\n",
      "12   800  76.6   0.8\n",
      "13  1000  73.8   0.0\n",
      "14  1250  80.2  -0.6\n",
      "15  1600  78.6  -1.0\n",
      "16  2000  83.0  -1.2\n",
      "17  2500  82.8  -1.3\n",
      "18  3150  73.3  -1.2\n",
      "19  4000  73.7  -1.0\n",
      "20  5000  58.1  -0.5\n"
     ]
    }
   ],
   "source": [
    "print(df)"
   ]
  },
  {
   "cell_type": "markdown",
   "metadata": {},
   "source": [
    "A traves de la siguiente función podemos definir los datos ingresados como diferentes listas."
   ]
  },
  {
   "cell_type": "code",
   "execution_count": 85,
   "metadata": {},
   "outputs": [],
   "source": [
    "freq=df.iloc[:, 0]\n",
    "Lp=df.iloc[:, 1]\n",
    "LpAc=df.iloc[:, 2]"
   ]
  },
  {
   "cell_type": "markdown",
   "metadata": {},
   "source": [
    "## Ejercicio 1: Calculadora de decibeles\n",
    "+ Desarrollar un código que realice la suma, la resta y el promedio de nivel de presión sonora.\n",
    "+ Explique el desarrollo del código y sus ecuaciones involucradas.\n",
    "+ Tomar como referencia $p_{0} = 2\\times 10^{-5} \\left(\\frac{N}{m^2}\\right)$."
   ]
  },
  {
   "cell_type": "markdown",
   "metadata": {},
   "source": [
    "Se realiza el codigo de la suma de niveles de presión, replicando el orden de las operaciones algebraicas que se presentan en la siguiente ecuación:$SUMA = \\log{10}(\\sum{n=1}^{n}(10^(\\frac{Lp}{10})))$"
   ]
  },
  {
   "cell_type": "code",
   "execution_count": 87,
   "metadata": {},
   "outputs": [
    {
     "name": "stdout",
     "output_type": "stream",
     "text": [
      "103.24167834936334\n"
     ]
    }
   ],
   "source": [
    "#suma de Lp\n",
    "Leq=0                                                         #Se define una variable de prealocado.\n",
    "for i in range (0,len(Lp)):                                   #Se genera un ciclo for del mismo largo de la cantidades de niveles de presión.\n",
    "    if i == 0:                                                #If para alocar el primer valor de Lp.\n",
    "        Leq=Lp[i]                                             \n",
    "    else:\n",
    "        Leq=10*np.log10((10**(Leq/10))+(10**(Lp[i]/10)))      #Suma de niveles de presión.\n",
    "print(Leq)    "
   ]
  },
  {
   "cell_type": "markdown",
   "metadata": {},
   "source": [
    "Se realiza el codigo de la resta de niveles de presión, replicando el orden de las operaciones algebraicas que se presentan en la siguiente ecuación:"
   ]
  },
  {
   "cell_type": "code",
   "execution_count": null,
   "metadata": {},
   "outputs": [],
   "source": [
    "#resta de Lp (en duda)\n",
    "Leq=0                                                         #Se define una variable de prealocado.\n",
    "for i in range (0,len(Lp)):                                   #Se genera un ciclo for del mismo largo de la cantidades de niveles de presión.\n",
    "    if i == 0:                                                #If para alocar el primer valor de Lp.\n",
    "        Leq=Lp[i]                                           \n",
    "    elif Leq >= Lp[i]:\n",
    "        Leq=10*np.log10((10**(Leq/10))-(10**(Lp[i]/10)))\n",
    "    else:\n",
    "        Leq=10*np.log10((10**(Lp[i]/10))-(10**(Leq/10)))\n",
    "print(Leq)    "
   ]
  },
  {
   "cell_type": "code",
   "execution_count": 22,
   "metadata": {},
   "outputs": [
    {
     "name": "stdout",
     "output_type": "stream",
     "text": [
      "95.77893782761569\n"
     ]
    }
   ],
   "source": [
    "#promedio de dB\n",
    "for i in range (0,len(Lp)):\n",
    "    if i == 0:\n",
    "        Lpsum=10**(Lp[i]/10)\n",
    "    else:\n",
    "        Lpsum=(Lpsum)+(10**(Lp[i]/10))\n",
    "Leqprom=10*np.log10(Lpsum/len(Lp))\n",
    "print(Leqprom)"
   ]
  },
  {
   "cell_type": "code",
   "execution_count": 42,
   "metadata": {},
   "outputs": [
    {
     "name": "stdout",
     "output_type": "stream",
     "text": [
      "[63, 125, 250, 500, 1000, 2000, 4000]\n",
      "[95.16666667 89.96666667 74.4        77.66666667 76.86666667 81.46666667\n",
      " 68.36666667]\n"
     ]
    }
   ],
   "source": [
    "#converison de tercio de octava a octava.\n",
    "freq8=[63,125,250,500,1000,2000,4000]\n",
    "sum=0\n",
    "cont1=0\n",
    "cont2=0\n",
    "octava=np.zeros(7)\n",
    "for i in range (0,len(Lp)):\n",
    "    while cont1 < 3:\n",
    "        sum=sum+Lp[i]\n",
    "        cont1=cont1+1\n",
    "        break\n",
    "    if cont1 == 3:\n",
    "        cont1=0\n",
    "        octava[cont2]=sum/3\n",
    "        cont2=cont2+1\n",
    "        sum=0\n",
    "        \n",
    "print(freq8)\n",
    "print(octava)"
   ]
  },
  {
   "cell_type": "code",
   "execution_count": 57,
   "metadata": {},
   "outputs": [
    {
     "name": "stdout",
     "output_type": "stream",
     "text": [
      "[95.16666667 95.16666667 95.16666667 89.96666667 89.96666667 89.96666667\n",
      " 74.4        74.4        74.4        77.66666667 77.66666667 77.66666667\n",
      " 76.86666667 76.86666667 76.86666667 81.46666667 81.46666667 81.46666667\n",
      " 68.36666667 68.36666667 68.36666667]\n"
     ]
    }
   ],
   "source": [
    "#converison de octavas a tercio de octava.\n",
    "H=np.zeros(L)\n",
    "cont=0\n",
    "for i in range (0,len(freq)):\n",
    "    if i%3==0 or i==0:\n",
    "        H[i]=octava[cont]\n",
    "        H[i+1]=octava[cont]\n",
    "        H[i+2]=octava[cont]\n",
    "        cont=cont+1\n",
    "print(H)"
   ]
  },
  {
   "cell_type": "code",
   "execution_count": 70,
   "metadata": {},
   "outputs": [
    {
     "data": {
      "text/plain": [
       "Text(0, 0.5, 'Amplitud')"
      ]
     },
     "execution_count": 70,
     "metadata": {},
     "output_type": "execute_result"
    },
    {
     "data": {
      "image/png": "[encoded data removed]",
      "text/plain": [
       "<Figure size 648x288 with 1 Axes>"
      ]
     },
     "metadata": {
      "needs_background": "light"
     },
     "output_type": "display_data"
    }
   ],
   "source": [
    "fig,ax = plt.subplots(figsize=(9,4), tight_layout=True)\n",
    "ax.plot(freq,Lp,linestyle = '-',label = 'Lp')\n",
    "ax.plot(freq,H,linestyle = '--',label= 'Lp octava')\n",
    "plt.grid(True)\n",
    "plt.legend()\n",
    "ax.set_title('Lp vs Lp octava')\n",
    "ax.set_xlabel('Frecuencia')\n",
    "ax.set_ylabel('Amplitud')"
   ]
  },
  {
   "cell_type": "code",
   "execution_count": 82,
   "metadata": {},
   "outputs": [
    {
     "name": "stdout",
     "output_type": "stream",
     "text": [
      "[66.6 72.8 67.2 74.7 79.8 66.8 67.9 59.3 69.9 67.8 76.6 78.7 75.8 73.8\n",
      " 80.8 79.6 84.2 84.1 74.5 74.7 58.6]\n"
     ]
    },
    {
     "data": {
      "text/plain": [
       "Text(0, 0.5, 'Amplitud')"
      ]
     },
     "execution_count": 82,
     "metadata": {},
     "output_type": "execute_result"
    },
    {
     "data": {
      "image/png": "[encoded data removed]",
      "text/plain": [
       "<Figure size 648x288 with 1 Axes>"
      ]
     },
     "metadata": {
      "needs_background": "light"
     },
     "output_type": "display_data"
    }
   ],
   "source": [
    "#Cambio de ponderacion Z-A\n",
    "l=len(Lp)\n",
    "LpA=np.zeros(l)\n",
    "for i in range (0,l):\n",
    "    LpA[i]=Lp[i]-LpAc[i]\n",
    "print(LpA)\n",
    "\n",
    "fig,ax = plt.subplots(figsize=(9,4), tight_layout=True)\n",
    "ax.plot(freq,Lp)\n",
    "ax.plot(freq,LpA)\n",
    "plt.grid(True)\n",
    "ax.set_title('Cambio de ponderación')\n",
    "ax.set_xlabel('Frecuencia')\n",
    "ax.set_ylabel('Amplitud')"
   ]
  },
  {
   "cell_type": "code",
   "execution_count": null,
   "metadata": {},
   "outputs": [],
   "source": []
  }
 ],
 "metadata": {
  "kernelspec": {
   "display_name": "ACUS220",
   "language": "python",
   "name": "acus220"
  },
  "language_info": {
   "codemirror_mode": {
    "name": "ipython",
    "version": 3
   },
   "file_extension": ".py",
   "mimetype": "text/x-python",
   "name": "python",
   "nbconvert_exporter": "python",
   "pygments_lexer": "ipython3",
   "version": "3.7.4"
  }
 },
 "nbformat": 4,
 "nbformat_minor": 4
}
