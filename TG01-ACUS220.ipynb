{
 "cells": [
  {
   "cell_type": "code",
   "execution_count": 3,
   "metadata": {},
   "outputs": [],
   "source": [
    "import numpy as np\n",
    "import pandas as pd\n",
    "from matplotlib import pyplot as plt"
   ]
  },
  {
   "cell_type": "code",
   "execution_count": 4,
   "metadata": {},
   "outputs": [],
   "source": [
    "df= pd.read_excel('tabla_datos.xlsx',names=['freq', 'Lp'])"
   ]
  },
  {
   "cell_type": "code",
   "execution_count": 5,
   "metadata": {},
   "outputs": [
    {
     "name": "stdout",
     "output_type": "stream",
     "text": [
      "    freq    Lp\n",
      "0     50  96.8\n",
      "1     63  99.0\n",
      "2     80  89.7\n",
      "3    100  93.8\n",
      "4    125  95.9\n",
      "5    160  80.2\n",
      "6    200  78.8\n",
      "7    250  67.9\n",
      "8    315  76.5\n",
      "9    400  72.6\n",
      "10   500  79.8\n",
      "11   630  80.6\n",
      "12   800  76.0\n",
      "13  1000  73.8\n",
      "14  1250  80.2\n",
      "15  1600  78.6\n",
      "16  2000  83.0\n",
      "17  2500  82.8\n",
      "18  3150  73.3\n",
      "19  4000  73.7\n",
      "20  5000  58.1\n"
     ]
    }
   ],
   "source": [
    "print(df)"
   ]
  },
  {
   "cell_type": "code",
   "execution_count": 6,
   "metadata": {},
   "outputs": [],
   "source": [
    "freq=df.iloc[:, 0]\n",
    "Lp=df.iloc[:, 1]"
   ]
  },
  {
   "cell_type": "code",
   "execution_count": 13,
   "metadata": {},
   "outputs": [
    {
     "name": "stdout",
     "output_type": "stream",
     "text": [
      "[63, 125, 250, 500, 1000, 2000, 4000]\n",
      "[98.16666667 83.63333333  0.          0.          0.          0.\n",
      "  0.        ]\n"
     ]
    }
   ],
   "source": [
    "Lp=[96.8,99,98.7,76.5,80.6,93.8]\n",
    "#converison de octavas a tercio de octava\n",
    "freq8=[63,125,250,500,1000,2000,4000]\n",
    "sum=0\n",
    "cont1=0\n",
    "cont2=0\n",
    "octava=np.zeros(7)\n",
    "for i in range (0,len(Lp)):\n",
    "    while cont1 < 3:\n",
    "        sum=sum+Lp[i]\n",
    "        cont1=cont1+1\n",
    "        break\n",
    "    if cont1 == 3:\n",
    "        cont1=0\n",
    "        octava[cont2]=sum/3\n",
    "        cont2=cont2+1\n",
    "        sum=0\n",
    "        \n",
    "print(freq8)\n",
    "print(octava)"
   ]
  },
  {
   "cell_type": "code",
   "execution_count": 8,
   "metadata": {},
   "outputs": [
    {
     "name": "stdout",
     "output_type": "stream",
     "text": [
      "103.2404638718704\n"
     ]
    }
   ],
   "source": [
    "#suma de Lp\n",
    "Leq=0\n",
    "for i in range (0,len(Lp)):\n",
    "    if i == 0:\n",
    "        Leq=Lp[i]\n",
    "    else:\n",
    "        Leq=10*np.log10((10**(Leq/10))+(10**(Lp[i]/10)))\n",
    "print(Leq)    "
   ]
  },
  {
   "cell_type": "code",
   "execution_count": 19,
   "metadata": {},
   "outputs": [
    {
     "name": "stdout",
     "output_type": "stream",
     "text": [
      "92.2988764161145\n"
     ]
    }
   ],
   "source": [
    "#resta de Lp (en duda)\n",
    "Leq=0\n",
    "for i in range (0,len(Lp)):\n",
    "    if i == 0:\n",
    "        Leq=Lp[i]\n",
    "    elif Leq >= Lp[i]:\n",
    "        Leq=10*np.log10((10**(Leq/10))-(10**(Lp[i]/10)))\n",
    "    else:\n",
    "        Leq=10*np.log10((10**(Lp[i]/10))-(10**(Leq/10)))\n",
    "print(Leq)    "
   ]
  },
  {
   "cell_type": "code",
   "execution_count": 22,
   "metadata": {},
   "outputs": [
    {
     "name": "stdout",
     "output_type": "stream",
     "text": [
      "95.77893782761569\n"
     ]
    }
   ],
   "source": [
    "#promedio de dB\n",
    "for i in range (0,len(Lp)):\n",
    "    if i == 0:\n",
    "        Lpsum=10**(Lp[i]/10)\n",
    "    else:\n",
    "        Lpsum=(Lpsum)+(10**(Lp[i]/10))\n",
    "Leqprom=10*np.log10(Lpsum/len(Lp))\n",
    "print(Leqprom)"
   ]
  },
  {
   "cell_type": "code",
   "execution_count": null,
   "metadata": {},
   "outputs": [],
   "source": []
  }
 ],
 "metadata": {
  "kernelspec": {
   "display_name": "ACUS220",
   "language": "python",
   "name": "acus220"
  },
  "language_info": {
   "codemirror_mode": {
    "name": "ipython",
    "version": 3
   },
   "file_extension": ".py",
   "mimetype": "text/x-python",
   "name": "python",
   "nbconvert_exporter": "python",
   "pygments_lexer": "ipython3",
   "version": "3.7.4"
  }
 },
 "nbformat": 4,
 "nbformat_minor": 4
}
