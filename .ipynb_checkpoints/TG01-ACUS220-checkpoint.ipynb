{
 "cells": [
  {
   "cell_type": "markdown",
   "metadata": {},
   "source": [
    "# Evaluación parcial 1.\n",
    "\n",
    "Se procede a la importación de las librerias que serán a utilizadas posteriormente."
   ]
  },
  {
   "cell_type": "code",
   "execution_count": 4,
   "metadata": {},
   "outputs": [],
   "source": [
    "import numpy as np\n",
    "import pandas as pd\n",
    "from matplotlib import pyplot as plt"
   ]
  },
  {
   "cell_type": "markdown",
   "metadata": {},
   "source": [
    "Para la evaluación son entregados los siguientes valores\n",
    "\\begin{align}\n",
    "\\\\\n",
    "\\end{align}\n",
    "\n",
    "|f|Hz|50|63|80|100|125|160|200|250|315|400|500|630|800|1000|1250|1600|2000|2500|3150|4000|5000|\n",
    "|-|-|-|-|-|-|-|-|-|-|-|-|-|-|-|-|-|-|-|-|-|-|-|\n",
    "|Lp| dB|96,8|99,0|89,7|93,8|95,9|80,2|78,8|67,9|76,5|72,6|79,8|80,6|76,0|73,8|80,2|78,6|83,0|82,8|73,3|73,7|58,1| "
   ]
  },
  {
   "cell_type": "markdown",
   "metadata": {},
   "source": [
    "Para facilitar la transcripción de estos datos, primeramente son escritos en excell y a traves de la siguiente función son pasados a Python, como lo es el nivel de presión sonora en ponderación (Z) ubicado en la segunda columna, con su respectiva frecuencia ubicada en la primera columna, y la correción que se le debe aplicar a cada frecuencia para ponderarlo en A en la tercera columna."
   ]
  },
  {
   "cell_type": "code",
   "execution_count": 5,
   "metadata": {},
   "outputs": [],
   "source": [
    "df= pd.read_excel('tabla_datos.xlsx',names=['freq', 'Lp','LpAc'])"
   ]
  },
  {
   "cell_type": "code",
   "execution_count": 6,
   "metadata": {},
   "outputs": [
    {
     "name": "stdout",
     "output_type": "stream",
     "text": [
      "    freq    Lp  LpAc\n",
      "0     50  96.8 -30.2\n",
      "1     63  99.0 -26.2\n",
      "2     80  89.7 -22.5\n",
      "3    100  93.8 -19.1\n",
      "4    125  95.9 -16.1\n",
      "5    160  80.2 -13.4\n",
      "6    200  78.8 -10.9\n",
      "7    250  67.9  -8.6\n",
      "8    315  76.5  -6.6\n",
      "9    400  72.6  -4.8\n",
      "10   500  79.8  -3.2\n",
      "11   630  80.6  -1.9\n",
      "12   800  76.0  -0.8\n",
      "13  1000  73.8   0.0\n",
      "14  1250  80.2   0.6\n",
      "15  1600  78.6   1.0\n",
      "16  2000  83.0   1.2\n",
      "17  2500  82.8   1.3\n",
      "18  3150  73.3   1.2\n",
      "19  4000  73.7   1.0\n",
      "20  5000  58.1   0.5\n"
     ]
    }
   ],
   "source": [
    "print(df)"
   ]
  },
  {
   "cell_type": "markdown",
   "metadata": {},
   "source": [
    "A traves de la siguiente función podemos definir los datos ingresados como diferentes listas."
   ]
  },
  {
   "cell_type": "code",
   "execution_count": 7,
   "metadata": {},
   "outputs": [],
   "source": [
    "freq=df.iloc[:, 0]\n",
    "Lp=df.iloc[:, 1]\n",
    "LpAc=df.iloc[:, 2]"
   ]
  },
  {
   "cell_type": "markdown",
   "metadata": {},
   "source": [
    "## Ejercicio 1: Calculadora de decibeles\n",
    "+ Desarrollar un código que realice la suma, la resta y el promedio de nivel de presión sonora.\n",
    "+ Explique el desarrollo del código y sus ecuaciones involucradas.\n",
    "+ Tomar como referencia $p_{0} = 2\\times 10^{-5} \\left(\\frac{N}{m^2}\\right)$."
   ]
  },
  {
   "cell_type": "markdown",
   "metadata": {},
   "source": [
    "Se realiza el codigo de la suma de niveles de presión, replicando el orden de las operaciones algebraicas que se presentan en la siguiente ecuación:"
   ]
  },
  {
   "cell_type": "markdown",
   "metadata": {},
   "source": [
    "$$\n",
    "SUMA = \\log_{10}\\sum_{n=1}^{n}10^\\frac{Lp_{n}}{10}\n",
    "\\label{eq1}\\tag{1}\n",
    "$$"
   ]
  },
  {
   "cell_type": "code",
   "execution_count": 8,
   "metadata": {},
   "outputs": [
    {
     "name": "stdout",
     "output_type": "stream",
     "text": [
      "103.2404638718704\n"
     ]
    }
   ],
   "source": [
    "#suma de Lp\n",
    "Leq=0                                                         #Se define una variable de prealocado.\n",
    "for i in range (0,len(Lp)):                                   #Se genera un ciclo for del mismo largo de la cantidades de niveles de presión.\n",
    "    if i == 0:                                                #If para alocar el primer valor de Lp.\n",
    "        Leq=Lp[i]                                             \n",
    "    else:\n",
    "        Leq=10*np.log10((10**(Leq/10))+(10**(Lp[i]/10)))      #Suma de niveles de presión.\n",
    "print(Leq)    "
   ]
  },
  {
   "cell_type": "markdown",
   "metadata": {},
   "source": [
    "Se realiza el codigo de la resta de niveles de presión, replicando el orden de las operaciones algebraicas que se presentan en la siguiente ecuación:"
   ]
  },
  {
   "cell_type": "markdown",
   "metadata": {},
   "source": [
    "$$\n",
    "RESTA = \\log_{10}\\Big(\\frac{Lp_{1}}{10}-\\frac{Lp_{2}}{10}\\Big)\n",
    "\\label{eq2}\\tag{2}\n",
    "$$"
   ]
  },
  {
   "cell_type": "code",
   "execution_count": 9,
   "metadata": {},
   "outputs": [
    {
     "name": "stdout",
     "output_type": "stream",
     "text": [
      "94.11440183983315\n"
     ]
    }
   ],
   "source": [
    "#resta de Lp (en duda)\n",
    "Leq=0                                                         #Se define una variable de prealocado.\n",
    "for i in range (0,len(Lp)):                                   #Se genera un ciclo for del mismo largo de la cantidades de niveles de presión.\n",
    "    if i == 0:                                                #If para alocar el primer valor de Lp.\n",
    "        Leq=Lp[i]                                           \n",
    "    elif Leq >= Lp[i]:\n",
    "        Leq=10*np.log10((10**(Leq/10))-(10**(Lp[i]/10)))\n",
    "    else:\n",
    "        Leq=10*np.log10((10**(Lp[i]/10))-(10**(Leq/10)))\n",
    "print(Leq)        "
   ]
  },
  {
   "cell_type": "markdown",
   "metadata": {},
   "source": [
    "Se realiza el código de el promedio de niveles de presión, replicando el orden de las operaciones algebraicas que se presentan en la siguiente ecuación:"
   ]
  },
  {
   "cell_type": "markdown",
   "metadata": {},
   "source": [
    "$$\n",
    "PROM = \\log_{10}\\frac{1}{n}\\sum_{n=1}^{n}10^\\frac{Lp_{n}}{10}\n",
    "\\label{eq3}\\tag{3}\n",
    "$$"
   ]
  },
  {
   "cell_type": "code",
   "execution_count": 10,
   "metadata": {},
   "outputs": [
    {
     "name": "stdout",
     "output_type": "stream",
     "text": [
      "90.01827092453121\n"
     ]
    }
   ],
   "source": [
    "#promedio de dB\n",
    "for i in range (0,len(Lp)):                                   #Ciclo for para recorrer todos los elementos.\n",
    "    if i == 0:                                                #if para caso inicial.\n",
    "        Lpsum=10**(Lp[i]/10)                                  \n",
    "    else:                                                     #else para sumar el resto de elementos.\n",
    "        Lpsum=(Lpsum)+(10**(Lp[i]/10))\n",
    "Leqprom=10*np.log10(Lpsum/len(Lp))                            #Promediado.\n",
    "print(Leqprom)"
   ]
  },
  {
   "cell_type": "markdown",
   "metadata": {},
   "source": [
    "## Ejercicio 2: Conversión de tercio de octava a octava\n",
    "+ Desarrollar un código que realice la transformacion desde banda tercio de octava a banda de octava y vice versa.\n",
    "+ Explicar desarrollo del código y sus ecuaciones involucradas.\n",
    "+ Discutir diferencias entre entre resultados."
   ]
  },
  {
   "cell_type": "markdown",
   "metadata": {},
   "source": [
    "Para realizar la transformación de tercio de octava a octava se debe realizar una serie de promedios, con el fin de entregar una información equivalente ,con menor cantidad de datos, donde esto trae como consecuencía la perdida de información exacta en algunas frecuencias. A continuación se presenta la formula de cada promedio a realizar, cada uno de estos indicará el valor por banda de octava que se requiere. "
   ]
  },
  {
   "cell_type": "markdown",
   "metadata": {},
   "source": [
    "$$\n",
    "Lp_{eq} = \\frac{Lp_{1}+Lp_{2}+Lp_{3}}{3}\n",
    "\\label{eq4}\\tag{4}\n",
    "$$"
   ]
  },
  {
   "cell_type": "code",
   "execution_count": 11,
   "metadata": {},
   "outputs": [
    {
     "name": "stdout",
     "output_type": "stream",
     "text": [
      "[63, 125, 250, 500, 1000, 2000, 4000]\n",
      "[95.16666667 89.96666667 74.4        77.66666667 76.66666667 81.46666667\n",
      " 68.36666667]\n"
     ]
    }
   ],
   "source": [
    "#converison de tercio de octava a octava.\n",
    "freq8=[63,125,250,500,1000,2000,4000]                         #Incorporación frecuencias a utilizar en banda de octava.\n",
    "sum=0                                                         #Variable inicial.\n",
    "cont1=0                                                       #Contador.\n",
    "cont2=0                                                       #Contador.\n",
    "octava=np.zeros(len(freq8))                                   #Vector de prealocado.\n",
    "for i in range (0,len(Lp)):                                   #ciclo for que recorre largo de frecuencias en tercio de octava.\n",
    "    while cont1 < 3:                                          #while para separar elementos en grupos de 3.\n",
    "        sum=sum+Lp[i]                                         #Suma de los 3 elementos.\n",
    "        cont1=cont1+1                                         #Contador utilizado para cumplir la condición en el while.\n",
    "        break\n",
    "    if cont1 == 3:                                            #If para reiniciar el proceso y promediar los 3 elementos sumados.\n",
    "        cont1=0                                               #Reiniciador.\n",
    "        octava[cont2]=sum/3                                   #Promediado.\n",
    "        cont2=cont2+1                                         #Contador para alocar los nuevos elementos. \n",
    "        sum=0                                                 #Reiniciador de sumatoria.\n",
    "        \n",
    "print(freq8)\n",
    "print(octava)"
   ]
  },
  {
   "cell_type": "markdown",
   "metadata": {},
   "source": [
    "El siguiente proceso de convertir de octava a tercio de octava es teóricamente incorrecto, ya que implica una creación de datos inexactos, que no si no fueron medidos con anterioridad, no hay manera de obtenerlos. Pero se realizará el proceso matemático inverso con la suposición de que los 3 elementos de tercio de octava son iguales, y sumados dan el elementos de octava."
   ]
  },
  {
   "cell_type": "code",
   "execution_count": 14,
   "metadata": {},
   "outputs": [
    {
     "name": "stdout",
     "output_type": "stream",
     "text": [
      "[95.16666667 95.16666667 95.16666667 89.96666667 89.96666667 89.96666667\n",
      " 74.4        74.4        74.4        77.66666667 77.66666667 77.66666667\n",
      " 76.66666667 76.66666667 76.66666667 81.46666667 81.46666667 81.46666667\n",
      " 68.36666667 68.36666667 68.36666667]\n"
     ]
    }
   ],
   "source": [
    "#converison de octavas a tercio de octava.\n",
    "H=np.zeros(len(Lp))\n",
    "cont=0\n",
    "for i in range (0,len(freq)):\n",
    "    if i%3==0 or i==0:\n",
    "        H[i]=octava[cont]\n",
    "        H[i+1]=octava[cont]\n",
    "        H[i+2]=octava[cont]\n",
    "        cont=cont+1\n",
    "print(H)"
   ]
  },
  {
   "cell_type": "markdown",
   "metadata": {},
   "source": [
    "A continuación se presenta un gráfico donde se aprecián las claras diferencias del nivel de presión sonora original respecto al estimado a partir de una conversión incorrecta."
   ]
  },
  {
   "cell_type": "code",
   "execution_count": 15,
   "metadata": {},
   "outputs": [
    {
     "data": {
      "text/plain": [
       "Text(0, 0.5, 'Amplitud')"
      ]
     },
     "execution_count": 15,
     "metadata": {},
     "output_type": "execute_result"
    },
    {
     "data": {
      "image/png": "[encoded data removed]",
      "text/plain": [
       "<Figure size 648x288 with 1 Axes>"
      ]
     },
     "metadata": {
      "needs_background": "light"
     },
     "output_type": "display_data"
    }
   ],
   "source": [
    "fig,ax = plt.subplots(figsize=(9,4), tight_layout=True)\n",
    "ax.plot(freq,Lp,linestyle = '-',label = 'Lp')\n",
    "ax.plot(freq,H,linestyle = '--',label= 'Lp octava')\n",
    "plt.grid(True)\n",
    "plt.legend()\n",
    "ax.set_title('Lp vs Lp octava')\n",
    "ax.set_xlabel('Frecuencia')\n",
    "ax.set_ylabel('Amplitud')"
   ]
  },
  {
   "cell_type": "markdown",
   "metadata": {},
   "source": [
    "## Ejercicio 3: Filtro A\n",
    "+ Desarrollar un código que permita aplicar un filtro con ponderación A a los valores presentados en la tabla \n",
    "+ Graficar ambas curvas.\n",
    "+ Explicar el desarrollo del código y sus ecuaciones involucradas\n",
    "+ Discutir diferencias entre curvas."
   ]
  },
  {
   "cell_type": "markdown",
   "metadata": {},
   "source": [
    "En primer lugar para realizar el cambio de ponderación se ingresa desde el excell la correción por frecuencia que se le debe aplicar al filtro Z para dejarlo como A. De esta manera a traves de una ciclo for se procede a la realización de esta operación elemento a elemento."
   ]
  },
  {
   "cell_type": "code",
   "execution_count": 16,
   "metadata": {},
   "outputs": [
    {
     "data": {
      "text/plain": [
       "Text(0, 0.5, 'Amplitud')"
      ]
     },
     "execution_count": 16,
     "metadata": {},
     "output_type": "execute_result"
    },
    {
     "data": {
      "image/png": "[encoded data removed]",
      "text/plain": [
       "<Figure size 648x288 with 1 Axes>"
      ]
     },
     "metadata": {
      "needs_background": "light"
     },
     "output_type": "display_data"
    }
   ],
   "source": [
    "#Cambio de ponderacion Z-A\n",
    "l=len(Lp)                                                     #Definición de elemento.\n",
    "LpA=np.zeros(l)                                               #Vector de prealocado.\n",
    "for i in range (0,l):                                         #Ciclo for que recorre todos los elementos.\n",
    "    LpA[i]=Lp[i]-LpAc[i]                                      #Aplicación de correción.\n",
    "\n",
    "fig,ax = plt.subplots(figsize=(9,4), tight_layout=True)       #Grafica.\n",
    "ax.plot(freq,Lp,linestyle = '-',label = 'LpZ')\n",
    "ax.plot(freq,LpA,linestyle = '--',label= 'LpA')\n",
    "plt.grid(True)\n",
    "plt.legend()\n",
    "ax.set_title('Cambio de ponderación')\n",
    "ax.set_xlabel('Frecuencia')\n",
    "ax.set_ylabel('Amplitud')"
   ]
  },
  {
   "cell_type": "markdown",
   "metadata": {},
   "source": [
    "Es posible ver en 1000 Hz existe una igualidad en las curvas de ponderación, para frecuencias menores, la ponderación A aplica una disminución considerable de hasta 30dB, en cambio para frecuencias mayores se observa un leve aumento debido a la ponderación, lo que refleja el funcionamiento del oido humano, que percibe con mayor intensidad de lo que son, las frecuencias mayores a 1000 Hz, y ocurre el proceso contrario para frecuencias menores a la misma."
   ]
  }
 ],
 "metadata": {
  "kernelspec": {
   "display_name": "ACUS220",
   "language": "python",
   "name": "acus220"
  },
  "language_info": {
   "codemirror_mode": {
    "name": "ipython",
    "version": 3
   },
   "file_extension": ".py",
   "mimetype": "text/x-python",
   "name": "python",
   "nbconvert_exporter": "python",
   "pygments_lexer": "ipython3",
   "version": "3.7.4"
  }
 },
 "nbformat": 4,
 "nbformat_minor": 4
}
