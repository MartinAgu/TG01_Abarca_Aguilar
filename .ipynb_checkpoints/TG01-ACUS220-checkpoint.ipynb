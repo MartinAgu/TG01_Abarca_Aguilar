{
 "cells": [
  {
   "cell_type": "code",
   "execution_count": 1,
   "metadata": {},
   "outputs": [],
   "source": [
    "import numpy as np\n",
    "import pandas as pd\n",
    "from matplotlib import pyplot as plt"
   ]
  },
  {
   "cell_type": "code",
   "execution_count": 2,
   "metadata": {},
   "outputs": [],
   "source": [
    "df= pd.read_excel('tabla_datos.xlsx',names=['freq', 'Lp', 'A'])"
   ]
  },
  {
   "cell_type": "code",
   "execution_count": 3,
   "metadata": {},
   "outputs": [
    {
     "name": "stdout",
     "output_type": "stream",
     "text": [
      "    freq    Lp     A\n",
      "0     50  96.8 -30.2\n",
      "1     63  99.0 -26.2\n",
      "2     80  89.7 -22.5\n",
      "3    100  93.8 -19.1\n",
      "4    125  95.9 -16.1\n",
      "5    160  80.2 -13.4\n",
      "6    200  78.8 -10.9\n",
      "7    250  67.9  -8.6\n",
      "8    315  76.5  -6.6\n",
      "9    400  72.6  -4.8\n",
      "10   500  79.8  -3.2\n",
      "11   630  80.6  -1.9\n",
      "12   800  76.0  -0.8\n",
      "13  1000  73.8   0.0\n",
      "14  1250  80.2   0.6\n",
      "15  1600  78.6   1.0\n",
      "16  2000  83.0   1.2\n",
      "17  2500  82.8   1.3\n",
      "18  3150  73.3   1.2\n",
      "19  4000  73.7   1.0\n",
      "20  5000  58.1   0.5\n"
     ]
    }
   ],
   "source": [
    "print(df)"
   ]
  },
  {
   "cell_type": "code",
   "execution_count": 9,
   "metadata": {},
   "outputs": [],
   "source": [
    "freq=df.iloc[:, 0]\n",
    "Lp=df.iloc[:, 1]\n",
    "LpAc=df.iloc[:, 2]"
   ]
  },
  {
   "cell_type": "code",
   "execution_count": 5,
   "metadata": {},
   "outputs": [
    {
     "name": "stdout",
     "output_type": "stream",
     "text": [
      "[63, 125, 250, 500, 1000, 2000, 4000]\n",
      "[95.16666667 89.96666667 74.4        77.66666667 76.66666667 81.46666667\n",
      " 68.36666667]\n"
     ]
    }
   ],
   "source": [
    "#converison de octavas a tercio de octava\n",
    "freq8=[63,125,250,500,1000,2000,4000]\n",
    "sum=0\n",
    "cont1=0\n",
    "cont2=0\n",
    "octava=np.zeros(7)\n",
    "for i in range (0,len(Lp)):\n",
    "    while cont1 < 3:\n",
    "        sum=sum+Lp[i]\n",
    "        cont1=cont1+1\n",
    "        break\n",
    "    if cont1 == 3:\n",
    "        cont1=0\n",
    "        octava[cont2]=sum/3\n",
    "        cont2=cont2+1\n",
    "        sum=0\n",
    "        \n",
    "print(freq8)\n",
    "print(octava)"
   ]
  },
  {
   "cell_type": "code",
   "execution_count": 6,
   "metadata": {},
   "outputs": [
    {
     "name": "stdout",
     "output_type": "stream",
     "text": [
      "103.2404638718704\n"
     ]
    }
   ],
   "source": [
    "#suma de Lp\n",
    "Leq=0\n",
    "for i in range (0,len(Lp)):\n",
    "    if i == 0:\n",
    "        Leq=Lp[i]\n",
    "    else:\n",
    "        Leq=10*np.log10((10**(Leq/10))+(10**(Lp[i]/10)))\n",
    "print(Leq)    "
   ]
  },
  {
   "cell_type": "code",
   "execution_count": 7,
   "metadata": {},
   "outputs": [
    {
     "name": "stdout",
     "output_type": "stream",
     "text": [
      "94.11440183983315\n"
     ]
    }
   ],
   "source": [
    "#resta de Lp (en duda)\n",
    "Leq=0\n",
    "for i in range (0,len(Lp)):\n",
    "    if i == 0:\n",
    "        Leq=Lp[i]\n",
    "    elif Leq >= Lp[i]:\n",
    "        Leq=10*np.log10((10**(Leq/10))-(10**(Lp[i]/10)))\n",
    "    else:\n",
    "        Leq=10*np.log10((10**(Lp[i]/10))-(10**(Leq/10)))\n",
    "print(Leq)    "
   ]
  },
  {
   "cell_type": "code",
   "execution_count": 8,
   "metadata": {},
   "outputs": [
    {
     "name": "stdout",
     "output_type": "stream",
     "text": [
      "90.01827092453121\n"
     ]
    }
   ],
   "source": [
    "#promedio de dB\n",
    "for i in range (0,len(Lp)):\n",
    "    if i == 0:\n",
    "        Lpsum=10**(Lp[i]/10)\n",
    "    else:\n",
    "        Lpsum=(Lpsum)+(10**(Lp[i]/10))\n",
    "Leqprom=10*np.log10(Lpsum/len(Lp))\n",
    "print(Leqprom)"
   ]
  },
  {
   "cell_type": "code",
   "execution_count": 10,
   "metadata": {},
   "outputs": [
    {
     "name": "stdout",
     "output_type": "stream",
     "text": [
      "[66.6 72.8 67.2 74.7 79.8 66.8 67.9 59.3 69.9 67.8 76.6 78.7 75.2 73.8\n",
      " 80.8 79.6 84.2 84.1 74.5 74.7 58.6]\n"
     ]
    }
   ],
   "source": [
    "#Cambio de ponderacion Z-A\n",
    "l=len(Lp)\n",
    "LpA=np.zeros(l)\n",
    "for i in range (0,l):\n",
    "    LpA[i]=Lp[i]+LpAc[i]\n",
    "print(LpA)"
   ]
  },
  {
   "cell_type": "code",
   "execution_count": null,
   "metadata": {},
   "outputs": [],
   "source": []
  }
 ],
 "metadata": {
  "kernelspec": {
   "display_name": "ACUS220",
   "language": "python",
   "name": "acus220"
  },
  "language_info": {
   "codemirror_mode": {
    "name": "ipython",
    "version": 3
   },
   "file_extension": ".py",
   "mimetype": "text/x-python",
   "name": "python",
   "nbconvert_exporter": "python",
   "pygments_lexer": "ipython3",
   "version": "3.7.4"
  }
 },
 "nbformat": 4,
 "nbformat_minor": 4
}
